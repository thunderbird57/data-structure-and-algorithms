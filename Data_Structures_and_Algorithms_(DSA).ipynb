{
  "nbformat": 4,
  "nbformat_minor": 0,
  "metadata": {
    "colab": {
      "provenance": [],
      "authorship_tag": "ABX9TyOqLdAoT+pbInIWlHEVqc3v",
      "include_colab_link": true
    },
    "kernelspec": {
      "name": "python3",
      "display_name": "Python 3"
    },
    "language_info": {
      "name": "python"
    }
  },
  "cells": [
    {
      "cell_type": "markdown",
      "metadata": {
        "id": "view-in-github",
        "colab_type": "text"
      },
      "source": [
        "<a href=\"https://colab.research.google.com/github/thunderbird57/data-structure-and-algorithms/blob/main/Data_Structures_and_Algorithms_(DSA).ipynb\" target=\"_parent\"><img src=\"https://colab.research.google.com/assets/colab-badge.svg\" alt=\"Open In Colab\"/></a>"
      ]
    },
    {
      "cell_type": "markdown",
      "source": [
        "## Data Structures and Algorithms\n",
        "- Exercises with Gemini"
      ],
      "metadata": {
        "id": "ng21398v1Kyl"
      }
    },
    {
      "cell_type": "markdown",
      "source": [
        "#### Exercise 1: Modifying Lists\n",
        "Imagine you have a list representing the daily tasks of a data analyst:\n",
        "`[\"Data cleaning\", \"Analysis\", \"Visualization\", \"Reporting\"]`.\n",
        "- You realize \"Analysis\" should be more specific: \"Statistical Analysis\". How would you replace \"Analysis\" with \"Statistical Analysis\" in the list?\n",
        "- You completed \"Data cleaning\". How would you remove it from the list?\n",
        "\n",
        "#### Exercise 2: List Operations\n",
        "You have two lists:      \n",
        "list1 = `[1, 2, 3]` &\n",
        "list2 = `[4, 5, 6]`\n",
        "- How would you combine these two lists into a single list?\n",
        "- How would you find the length of the combined list?\n"
      ],
      "metadata": {
        "id": "Fyt2UGqa2GOu"
      }
    },
    {
      "cell_type": "code",
      "source": [
        "# Exercise 1\n",
        "daily_tasks = [\"Data cleaning\", \"Analysis\", \"Visualization\", \"Reporting\"]\n",
        "daily_tasks[daily_tasks.index(\"Analysis\")] = \"Statistical Analysis\"\n",
        "daily_tasks.remove(\"Data cleaning\")\n",
        "print(daily_tasks)\n",
        "\n",
        "# Exercise 2\n",
        "list1 = [1, 2, 3]\n",
        "list2 = [4, 5, 6]\n",
        "combined_list = list1 + list2\n",
        "print(combined_list)\n",
        "print(len(combined_list))\n",
        "\n",
        "list1.extend(list2)\n",
        "print(list1)\n",
        "print(len(list1))"
      ],
      "metadata": {
        "colab": {
          "base_uri": "https://localhost:8080/"
        },
        "id": "jt5pfkij1D4Y",
        "outputId": "48392fd6-bc54-4412-9801-3e4944e7dd40"
      },
      "execution_count": 2,
      "outputs": [
        {
          "output_type": "stream",
          "name": "stdout",
          "text": [
            "['Statistical Analysis', 'Visualization', 'Reporting']\n",
            "[1, 2, 3, 4, 5, 6]\n",
            "6\n",
            "[1, 2, 3, 4, 5, 6]\n",
            "6\n"
          ]
        }
      ]
    },
    {
      "cell_type": "markdown",
      "source": [
        "#### Exercise 3: List Manipulation\n",
        "\n",
        "Let's say you have a list of unsorted numerical data points: [5, 2, 8, 1, 9, 4].\n",
        "* How would you sort this list in ascending order?\n",
        "* How would you find the largest number in the list?\n",
        "* How would you reverse the order of the list?List item\n",
        "\n",
        "#### Exercise 4: List Comprehension\n",
        "You have a list of numbers: [1, 2, 3, 4, 5, 6, 7, 8, 9, 10].\n",
        "* Use list comprehension to create a new list containing only the even numbers from the original list.\n",
        "* Use list comprehension to create a new list where each number is squared.\n"
      ],
      "metadata": {
        "id": "gRH9pHk63C42"
      }
    },
    {
      "cell_type": "code",
      "source": [
        "\n",
        "# Exercise 3\n",
        "list = [5, 2, 8, 1, 9, 4]\n",
        "list.sort()\n",
        "print(list)\n",
        "print(list[-1])\n",
        "list.sort(reverse=True)\n",
        "print(list)"
      ],
      "metadata": {
        "colab": {
          "base_uri": "https://localhost:8080/"
        },
        "id": "EsFa8YNv3aBm",
        "outputId": "f8ce6b37-6789-4be7-a9ca-a9350549d115"
      },
      "execution_count": 5,
      "outputs": [
        {
          "output_type": "stream",
          "name": "stdout",
          "text": [
            "[1, 2, 4, 5, 8, 9]\n",
            "9\n",
            "[9, 8, 5, 4, 2, 1]\n"
          ]
        }
      ]
    },
    {
      "cell_type": "code",
      "source": [
        "# Exercise 4\n",
        "list = [1, 2, 3, 4, 5, 6, 7, 8, 9, 10]\n",
        "even_list = [x for x in list if x % 2 == 0]\n",
        "print(even_list)\n",
        "squared_list = [x**2 for x in list]\n",
        "print(squared_list)"
      ],
      "metadata": {
        "colab": {
          "base_uri": "https://localhost:8080/"
        },
        "id": "3GcVkzX23-l6",
        "outputId": "a5765f9c-54d7-4be8-de5f-575946b722fc"
      },
      "execution_count": 2,
      "outputs": [
        {
          "output_type": "stream",
          "name": "stdout",
          "text": [
            "[2, 4, 6, 8, 10]\n",
            "[1, 4, 9, 16, 25, 36, 49, 64, 81, 100]\n"
          ]
        }
      ]
    },
    {
      "cell_type": "markdown",
      "source": [
        "### Problem: Finding the Longest Word in a String\n",
        "\n",
        "Write a Python function that takes a string as input and returns the longest word in that string.\n",
        "\n",
        "#### Example:\n",
        "\n",
        "Input: \"The quick brown fox jumps over the lazy dog\"\n",
        "Output: \"quick\"\n",
        "#### Considerations:\n",
        "* **You**'ll need to split the string into a list of words.\n",
        "* You'll need to iterate through the list and keep track of the longest word found so far.\n",
        "* You might want to handle cases with punctuation or special characters."
      ],
      "metadata": {
        "id": "kcPAYsUh5w7b"
      }
    },
    {
      "cell_type": "code",
      "source": [
        "x = \"The quick brown fox jumps over the lazy dog\"\n",
        "str_list = x.split()"
      ],
      "metadata": {
        "id": "BVfiChbv50Jv"
      },
      "execution_count": 3,
      "outputs": []
    },
    {
      "cell_type": "code",
      "source": [
        "str_list"
      ],
      "metadata": {
        "colab": {
          "base_uri": "https://localhost:8080/"
        },
        "id": "qu4ONG0I6LtC",
        "outputId": "9dc32572-1009-419b-a948-4e9ebf81229d"
      },
      "execution_count": 4,
      "outputs": [
        {
          "output_type": "execute_result",
          "data": {
            "text/plain": [
              "['The', 'quick', 'brown', 'fox', 'jumps', 'over', 'the', 'lazy', 'dog']"
            ]
          },
          "metadata": {},
          "execution_count": 4
        }
      ]
    },
    {
      "cell_type": "code",
      "source": [
        "[len(x) for x in str_list] ## List comprehension is not very useful in this case as it generates the list instead of keeping track of the word"
      ],
      "metadata": {
        "colab": {
          "base_uri": "https://localhost:8080/"
        },
        "id": "1bAInaVZ6NAm",
        "outputId": "98a62ab0-d8b1-41f8-ff32-7550090b249b"
      },
      "execution_count": 5,
      "outputs": [
        {
          "output_type": "execute_result",
          "data": {
            "text/plain": [
              "[3, 5, 5, 3, 5, 4, 3, 4, 3]"
            ]
          },
          "metadata": {},
          "execution_count": 5
        }
      ]
    },
    {
      "cell_type": "code",
      "source": [
        "def longest_word(str):\n",
        "  str_list=str.split()\n",
        "  lw = \"\"\n",
        "  for word in str_list:\n",
        "    word= ''.join(c for c in word if c.isalnum())\n",
        "    if len(word)> len(lw):\n",
        "      lw=word\n",
        "  return lw"
      ],
      "metadata": {
        "id": "q2eN8kvw85ZH"
      },
      "execution_count": 8,
      "outputs": []
    },
    {
      "cell_type": "code",
      "source": [
        "longest_word(x)"
      ],
      "metadata": {
        "colab": {
          "base_uri": "https://localhost:8080/",
          "height": 35
        },
        "id": "yqx6aKSS9s_w",
        "outputId": "219c8aed-8765-46a2-94c6-294ca84cdabb"
      },
      "execution_count": 9,
      "outputs": [
        {
          "output_type": "execute_result",
          "data": {
            "text/plain": [
              "'quick'"
            ],
            "application/vnd.google.colaboratory.intrinsic+json": {
              "type": "string"
            }
          },
          "metadata": {},
          "execution_count": 9
        }
      ]
    },
    {
      "cell_type": "code",
      "source": [],
      "metadata": {
        "id": "Jcg3aoZQ9wTp"
      },
      "execution_count": null,
      "outputs": []
    },
    {
      "cell_type": "markdown",
      "source": [
        "### Problem: Anagram Check\n",
        "\n",
        "Write a Python function that takes two strings as input and returns True if they are anagrams of each other, and False otherwise.\n",
        "\n",
        "Definition: An anagram is a word or phrase formed by rearranging the letters of another word or phrase, using all the original letters exactly once.\n",
        "\n",
        "#### **Examples**:\n",
        "\n",
        "* \"listen\" and \"silent\" are anagrams.\n",
        "* \"hello\" and \"world\" are not anagrams.\n",
        "* \"Debit Card\" and \"Bad Credit\" are anagrams.\n",
        "\n",
        "#### **Considerations**:\n",
        "* Case sensitivity: Should the function be case-sensitive or case-insensitive?\n",
        "* Spaces and punctuation: Should spaces and punctuation be ignored?"
      ],
      "metadata": {
        "id": "-YHQfzuMADhh"
      }
    },
    {
      "cell_type": "code",
      "source": [
        "str1 = \"Bad Credit\"\n",
        "str2 = \"Debit Card\""
      ],
      "metadata": {
        "id": "hHfkLr0FAesI"
      },
      "execution_count": 22,
      "outputs": []
    },
    {
      "cell_type": "code",
      "source": [
        "def isanagram(str1,str2):\n",
        "  # Remove spaces and punctuation, and convert to lowercase\n",
        "  str1 = ''.join(c for c in str1.lower() if c.isalnum())\n",
        "  str2 = ''.join(c for c in str2.lower() if c.isalnum())\n",
        "  sorted_str1 = sorted(str1)\n",
        "  sorted_str2 = sorted(str2)\n",
        "  return sorted_str1 == sorted_str2"
      ],
      "metadata": {
        "id": "YQsfbPzmAqol"
      },
      "execution_count": 23,
      "outputs": []
    },
    {
      "cell_type": "code",
      "source": [
        "isanagram(str1,str2)"
      ],
      "metadata": {
        "colab": {
          "base_uri": "https://localhost:8080/"
        },
        "id": "WyczxP1DAy8U",
        "outputId": "d6ccb955-daa2-42de-ddbb-c5ce1c74bc3c"
      },
      "execution_count": 24,
      "outputs": [
        {
          "output_type": "execute_result",
          "data": {
            "text/plain": [
              "True"
            ]
          },
          "metadata": {},
          "execution_count": 24
        }
      ]
    },
    {
      "cell_type": "code",
      "source": [
        "## Using hashmap\n",
        "def is_anagram_hashmap(str1, str2):\n",
        "    \"\"\"\n",
        "    Checks if two strings are anagrams using a hash map.\n",
        "    \"\"\"\n",
        "    str1 = ''.join(c for c in str1.lower() if c.isalnum())\n",
        "    str2 = ''.join(c for c in str2.lower() if c.isalnum())\n",
        "\n",
        "    if len(str1) != len(str2): #quick check. if lengths are different, they are not anagrams.\n",
        "      return False\n",
        "\n",
        "    char_counts1 = {}\n",
        "    char_counts2 = {}\n",
        "\n",
        "    for char in str1:\n",
        "        char_counts1[char] = char_counts1.get(char, 0) + 1\n",
        "\n",
        "    for char in str2:\n",
        "        char_counts2[char] = char_counts2.get(char, 0) + 1\n",
        "\n",
        "    return char_counts1 == char_counts2\n",
        "\n",
        "# Example usage\n",
        "string1 = \"listen\"\n",
        "string2 = \"silent\"\n",
        "print(is_anagram_hashmap(string1, string2))\n",
        "\n",
        "string3 = \"hello\"\n",
        "string4 = \"world\"\n",
        "print(is_anagram_hashmap(string3, string4))\n",
        "\n",
        "string5 = \"Debit Card\"\n",
        "string6 = \"Bad Credit\"\n",
        "print(is_anagram_hashmap(string5, string6))"
      ],
      "metadata": {
        "colab": {
          "base_uri": "https://localhost:8080/"
        },
        "id": "0AhmoEkuA0cG",
        "outputId": "0f184d89-42b6-4b99-c8fb-c5757e6f9ea1"
      },
      "execution_count": 25,
      "outputs": [
        {
          "output_type": "stream",
          "name": "stdout",
          "text": [
            "True\n",
            "False\n",
            "True\n"
          ]
        }
      ]
    },
    {
      "cell_type": "markdown",
      "source": [
        "### Problem: First Unique Character\n",
        "\n",
        "Write a Python function that takes a string as input and returns the index of its first unique character. If there is no unique character, return -1.\n",
        "\n",
        "#### **Examples**:\n",
        "\n",
        "\"leetcode\" should return 0 (the first 'l').\n",
        "\"loveleetcode\" should return 2 (the first 'v').\n",
        "\"aabbcc\" should return -1 (no unique characters).\n",
        "#### **Considerations**:\n",
        "\n",
        "* How will you efficiently keep track of character counts?\n",
        "* How will you determine the first unique character?"
      ],
      "metadata": {
        "id": "WXBT7bNmDkmj"
      }
    },
    {
      "cell_type": "code",
      "source": [
        "def unique_char(str1):\n",
        "  ##str1 = ''.join(c for c in str1.lower() if c.isalnum())\n",
        "  uc = 0\n",
        "  for char in str1:\n",
        "    lst = ''.join(x for x in str1 if x==char)\n",
        "   # print(lst)\n",
        "    if len(lst)==1:\n",
        "      return uc\n",
        "    uc=uc+1\n",
        "  return -1"
      ],
      "metadata": {
        "id": "QfOViI5oDw1Q"
      },
      "execution_count": 71,
      "outputs": []
    },
    {
      "cell_type": "code",
      "source": [
        "str1 = \"aabbcdc\"\n",
        "str1= ''.join(c for c in str1.lower() if c.isalnum())"
      ],
      "metadata": {
        "id": "JjIsSqp7SGQC"
      },
      "execution_count": 72,
      "outputs": []
    },
    {
      "cell_type": "code",
      "source": [
        "def first_unique_char(s):\n",
        "    \"\"\"\n",
        "    Finds the index of the first unique character in a string.\n",
        "    \"\"\"\n",
        "    char_counts = {}\n",
        "    # Count character occurrences\n",
        "    for char in s:\n",
        "        char_counts[char] = char_counts.get(char, 0) + 1\n",
        "\n",
        "    # Find the first unique character and its index\n",
        "    for i, char in enumerate(s):\n",
        "        if char_counts[char] == 1:\n",
        "            return i\n",
        "\n",
        "    return -1\n",
        "\n",
        "# Example usage\n",
        "print(first_unique_char(\"leetcode\"))\n",
        "print(first_unique_char(\"loveleetcode\"))\n",
        "print(first_unique_char(\"aabbcc\"))\n"
      ],
      "metadata": {
        "colab": {
          "base_uri": "https://localhost:8080/"
        },
        "id": "98xMZTChSLKD",
        "outputId": "f86aee0f-8c4d-4580-8ee0-217895d759d3"
      },
      "execution_count": 74,
      "outputs": [
        {
          "output_type": "stream",
          "name": "stdout",
          "text": [
            "0\n",
            "2\n",
            "-1\n"
          ]
        }
      ]
    },
    {
      "cell_type": "code",
      "source": [],
      "metadata": {
        "id": "yZXZaKIhTCOp"
      },
      "execution_count": null,
      "outputs": []
    }
  ]
}